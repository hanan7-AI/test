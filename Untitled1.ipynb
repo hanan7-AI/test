{
 "cells": [
  {
   "cell_type": "code",
   "execution_count": null,
   "id": "0b9939d2-de03-44bc-8b57-e9d8ecac2fc8",
   "metadata": {},
   "outputs": [],
   "source": [
    "import cv2\n",
    "import numpy as np\n",
    "import tflite_runtime.interpreter as tflite\n"
   ]
  },
  {
   "cell_type": "code",
   "execution_count": null,
   "id": "269a6775-6713-4fe0-9c0c-5499808bedc7",
   "metadata": {},
   "outputs": [],
   "source": [
    "# Load TFLite model\n",
    "interpreter = tflite.Interpreter(model_path='model.tflite')\n",
    "interpreter.allocate_tensors()\n"
   ]
  },
  {
   "cell_type": "code",
   "execution_count": null,
   "id": "a804f97d-4c51-4e31-952b-2c315073e5dc",
   "metadata": {},
   "outputs": [],
   "source": [
    "# Get model details\n",
    "input_details = interpreter.get_input_details()\n",
    "output_details = interpreter.get_output_details()\n",
    "input_shape = input_details[0]['shape']\n"
   ]
  },
  {
   "cell_type": "code",
   "execution_count": null,
   "id": "c1770d2b-76f7-4d9c-9b33-276b8fd5c9e6",
   "metadata": {},
   "outputs": [],
   "source": [
    "# Initialize webcam\n",
    "cap = cv2.VideoCapture(0)  # '0' is typically the default value for the first webcam. camera_id\n",
    "cap.set(cv2.CAP_PROP_FRAME_WIDTH, width) #640\n",
    "cap.set(cv2.CAP_PROP_FRAME_HEIGHT, height) #480\n",
    "\n",
    "# Continuously capture frames from the webcam\n",
    "while True:\n",
    "    # Capture frame-by-frame\n",
    "    ret, frame = cap.read()\n",
    "\n",
    "    # If frame is read correctly ret is True\n",
    "    if not ret:\n",
    "        print(\"Can't receive frame (stream end?). Exiting ...\")\n",
    "        break\n",
    "\n",
    "\n",
    "# Convert the image from BGR to RGB\n",
    "image_rgb = cv2.cvtColor(frame, cv2.COLOR_BGR2RGB)\n",
    "\n",
    "# Resize the image to fit the model input\n",
    "image_resized = cv2.resize(image_rgb, (input_shape[1], input_shape[2]))\n",
    "\n",
    "# Preprocess the image to fit the model input\n",
    "input_data = np.expand_dims(image_resized, axis=0).astype(np.float32)\n",
    "\n",
    "# Set the input tensor\n",
    "interpreter.set_tensor(input_details[0]['index'], input_data)\n",
    "\n",
    "# Run inference\n",
    "interpreter.invoke()\n",
    "\n",
    "# Retrieve detection results\n",
    "output_data = interpreter.get_tensor(output_details[0]['index'])\n",
    "\n",
    "# TODO: Add code to interpret the output_data and show results on the image\n",
    "\n",
    "# Display the result\n",
    "cv2.imshow('Object Detection', frame)\n",
    "\n",
    "# Break the loop by pressing 'q'\n",
    "if cv2.waitKey(1) & 0xFF == ord('q'):\n",
    "    break\n",
    "\n"
   ]
  },
  {
   "cell_type": "code",
   "execution_count": null,
   "id": "ad185239-4c61-48fd-860d-85011e05672e",
   "metadata": {},
   "outputs": [],
   "source": []
  }
 ],
 "metadata": {
  "kernelspec": {
   "display_name": "Python 3 (ipykernel)",
   "language": "python",
   "name": "python3"
  },
  "language_info": {
   "codemirror_mode": {
    "name": "ipython",
    "version": 3
   },
   "file_extension": ".py",
   "mimetype": "text/x-python",
   "name": "python",
   "nbconvert_exporter": "python",
   "pygments_lexer": "ipython3",
   "version": "3.12.4"
  }
 },
 "nbformat": 4,
 "nbformat_minor": 5
}
