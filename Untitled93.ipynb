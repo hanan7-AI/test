{
 "cells": [
  {
   "cell_type": "code",
   "execution_count": null,
   "id": "04e58238",
   "metadata": {},
   "outputs": [],
   "source": [
    "import numpy as np\n",
    "from scipy.io import wavfile\n",
    "import tensorflow.lite as tflite  # Importing tensorflow.lite directly\n",
    "\n",
    "def load_audio(file_path, target_shape):\n",
    "    # Load WAV file\n",
    "    sample_rate, audio_data = wavfile.read(file_path)\n",
    "    # Convert to float32 and adjust dimensions if needed\n",
    "    audio_data = audio_data.astype(np.float32)\n",
    "\n",
    "    # Adjust audio data to match the required model shape\n",
    "    if audio_data.shape[0] > target_shape[1]:\n",
    "        audio_data = audio_data[:target_shape[1]]\n",
    "    elif audio_data.shape[0] < target_shape[1]:\n",
    "        # Pad with zeros if the audio data is shorter than required\n",
    "        padding = target_shape[1] - audio_data.shape[0]\n",
    "        audio_data = np.pad(audio_data, (0, padding), 'constant')\n",
    "    \n",
    "    # Reshape data to match the model's expected input (e.g., 1 x samples x 1 for mono audio)\n",
    "    return np.expand_dims(audio_data, axis=(0, -1))\n",
    "\n",
    "def load_and_run_tflite_model(model_path, input_data):\n",
    "    # Load TFLite model and allocate tensors\n",
    "    interpreter = tflite.Interpreter(model_path=model_path)\n",
    "    interpreter.allocate_tensors()\n",
    "\n",
    "    # Get input and output details\n",
    "    input_details = interpreter.get_input_details()\n",
    "    output_details = interpreter.get_output_details()\n",
    "\n",
    "    # Check input shape compatibility\n",
    "    input_shape = input_details[0]['shape']\n",
    "    if input_data.shape != tuple(input_shape):\n",
    "        raise ValueError(f\"Expected input shape {input_shape}, but got {input_data.shape}\")\n",
    "\n",
    "    # Set the input data\n",
    "    interpreter.set_tensor(input_details[0]['index'], input_data)\n",
    "\n",
    "    # Run inference\n",
    "    interpreter.invoke()\n",
    "\n",
    "    # Retrieve output data\n",
    "    output_data = interpreter.get_tensor(output_details[0]['index'])\n",
    "    return output_data\n",
    "\n",
    "# Model and audio file paths\n",
    "model_path = \"path/to/your/model.tflite\"\n",
    "audio_file_path = \"path/to/your/audio.wav\"\n",
    "input_shape = (1, 16000, 1)  # Adjust dimensions according to your model's requirements\n",
    "\n",
    "# Load and prepare audio data\n",
    "input_data = load_audio(audio_file_path, target_shape=input_shape)\n",
    "\n",
    "# Run model and get result\n",
    "output = load_and_run_tflite_model(model_path, input_data)\n",
    "print(\"Model Output:\", output)\n"
   ]
  }
 ],
 "metadata": {
  "kernelspec": {
   "display_name": "Python 3 (ipykernel)",
   "language": "python",
   "name": "python3"
  },
  "language_info": {
   "codemirror_mode": {
    "name": "ipython",
    "version": 3
   },
   "file_extension": ".py",
   "mimetype": "text/x-python",
   "name": "python",
   "nbconvert_exporter": "python",
   "pygments_lexer": "ipython3",
   "version": "3.9.13"
  },
  "varInspector": {
   "cols": {
    "lenName": 16,
    "lenType": 16,
    "lenVar": 40
   },
   "kernels_config": {
    "python": {
     "delete_cmd_postfix": "",
     "delete_cmd_prefix": "del ",
     "library": "var_list.py",
     "varRefreshCmd": "print(var_dic_list())"
    },
    "r": {
     "delete_cmd_postfix": ") ",
     "delete_cmd_prefix": "rm(",
     "library": "var_list.r",
     "varRefreshCmd": "cat(var_dic_list()) "
    }
   },
   "types_to_exclude": [
    "module",
    "function",
    "builtin_function_or_method",
    "instance",
    "_Feature"
   ],
   "window_display": false
  }
 },
 "nbformat": 4,
 "nbformat_minor": 5
}
